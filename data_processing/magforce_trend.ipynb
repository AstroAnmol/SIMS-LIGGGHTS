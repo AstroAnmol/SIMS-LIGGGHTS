{
 "cells": [
  {
   "cell_type": "code",
   "execution_count": 103,
   "metadata": {},
   "outputs": [],
   "source": [
    "import matplotlib.pyplot as plt\n",
    "import numpy as np\n",
    "import pandas as pd\n",
    "plt.rcParams['text.usetex'] = True"
   ]
  },
  {
   "cell_type": "code",
   "execution_count": 104,
   "metadata": {},
   "outputs": [],
   "source": [
    "simulation_folder=              '../mag_test/results'"
   ]
  },
  {
   "cell_type": "code",
   "execution_count": 105,
   "metadata": {},
   "outputs": [],
   "source": [
    "mag_field_orientation=              '/parallel'  \n",
    "# mag_field_orientation=              '/perpendicular'\n",
    "# mag_field_orientation=              '/perpendicular_plane'"
   ]
  },
  {
   "cell_type": "code",
   "execution_count": 106,
   "metadata": {},
   "outputs": [],
   "source": [
    "susc_folder=                        '/susc1'\n",
    "# susc_folder=                        '/susc4'"
   ]
  },
  {
   "cell_type": "code",
   "execution_count": 107,
   "metadata": {},
   "outputs": [],
   "source": [
    "post_folder_MDM=                    '/MDM'\n",
    "# post_folder_SHA=                    '/SHA'\n",
    "post_folder_inc=                    '/inclusion_quad'"
   ]
  },
  {
   "cell_type": "code",
   "execution_count": 108,
   "metadata": {},
   "outputs": [],
   "source": [
    "c=                  np.arange(20,41,1)\n",
    "force_MDM=          np.zeros(c.size)\n",
    "# force_SHA=          np.zeros(c.size)\n",
    "force_inc=          np.zeros(c.size)"
   ]
  },
  {
   "cell_type": "code",
   "execution_count": 109,
   "metadata": {},
   "outputs": [],
   "source": [
    "particle_number=3"
   ]
  },
  {
   "cell_type": "code",
   "execution_count": 110,
   "metadata": {},
   "outputs": [],
   "source": [
    "if particle_number==2:\n",
    "    post_folder_par=            '/post_par2'\n",
    "    skip_rows=10\n",
    "    \n",
    "elif particle_number==3:\n",
    "    post_folder_par=            '/post_par3'\n",
    "    skip_rows=9\n",
    "\n",
    "elif particle_number==4:\n",
    "    post_folder_par=            '/post_par3_triangle'\n",
    "    skip_rows=9"
   ]
  },
  {
   "cell_type": "code",
   "execution_count": 111,
   "metadata": {},
   "outputs": [],
   "source": [
    "for i in range(c.size):\n",
    "    sep_file=c[i]\n",
    "    dump_folder=            simulation_folder + susc_folder + mag_field_orientation + post_folder_par \n",
    "\n",
    "    MDM_file_location=      (dump_folder + post_folder_MDM + f\"/dump_{sep_file}_2.liggghts\")\n",
    "    force_MDM[i]=           np.loadtxt(MDM_file_location, skiprows=skip_rows, usecols=4)\n",
    "\n",
    "    # SHA_file_location=      (dump_folder + post_folder_SHA + f\"/dump_{sep_file}_2.liggghts\")\n",
    "    # force_SHA[i]=           np.loadtxt(SHA_file_location, skiprows=skip_rows, usecols=4)\n",
    "\n",
    "    # inc_file_location=      (dump_folder + post_folder_inc+ f\"/dump_{sep_file}_2.liggghts\")\n",
    "    # force_inc[i]=           np.loadtxt(inc_file_location, skiprows=skip_rows, usecols=4)"
   ]
  },
  {
   "cell_type": "code",
   "execution_count": 112,
   "metadata": {},
   "outputs": [
    {
     "data": {
      "image/png": "[encoded data removed]",
      "text/plain": [
       "<Figure size 640x480 with 1 Axes>"
      ]
     },
     "metadata": {},
     "output_type": "display_data"
    }
   ],
   "source": [
    "plt.figure()\n",
    "plt.plot(c/10, force_MDM, 'b-', label= 'MDM')\n",
    "# plt.plot(c/10, force_SHA, 'g--', label= 'SHA')\n",
    "# plt.plot(c/10, force_inc, label= 'Inclusion')\n",
    "plt.title(r\"$H_0=1 A/m, \\alpha=0^\\circ, \\chi=1.0$\")\n",
    "plt.xlabel(\"Separation Distance (particle radii)\")\n",
    "plt.ylabel(\"Force (N)\")\n",
    "plt.grid()\n",
    "plt.legend()\n",
    "plt.show()"
   ]
  },
  {
   "cell_type": "code",
   "execution_count": null,
   "metadata": {},
   "outputs": [],
   "source": []
  }
 ],
 "metadata": {
  "kernelspec": {
   "display_name": "Python 3",
   "language": "python",
   "name": "python3"
  },
  "language_info": {
   "codemirror_mode": {
    "name": "ipython",
    "version": 3
   },
   "file_extension": ".py",
   "mimetype": "text/x-python",
   "name": "python",
   "nbconvert_exporter": "python",
   "pygments_lexer": "ipython3",
   "version": "3.9.6"
  }
 },
 "nbformat": 4,
 "nbformat_minor": 2
}
